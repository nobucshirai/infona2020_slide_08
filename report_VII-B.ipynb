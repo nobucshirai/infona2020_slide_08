{
  "nbformat": 4,
  "nbformat_minor": 0,
  "metadata": {
    "colab": {
      "provenance": []
    },
    "kernelspec": {
      "name": "python3",
      "display_name": "Python 3"
    }
  },
  "cells": [
    {
      "cell_type": "markdown",
      "metadata": {
        "id": "jaeqy3WhYbK3"
      },
      "source": [
        "# 数値解析2020 レポート\n",
        "\n",
        "**VII-B.** \n",
        "(1) 3次の自然スプライン補間を用いて3つのデータ点 $(x_0,y_0)=(0,1)$, $(x_1,y_1)=(1,2)$, $(x_2,y_2)=(4,2)$ を通る2本の3次の区分的補間多項式 $P_i(x) = y_i + a_i (x-x_i) + b_i (x-x_i)^2 + c_i (x-x_i)^3$, $(i=0,1)$ を求めよ。\n",
        "\n",
        "(2) 3次の自然スプライン補間を用いて5つのデータ点 $(x_0,y_0)=(0,1)$, $(x_1,y_1)=(1,2)$, $(x_2,y_2)=(4,2)$, $(x_3,y_3)=(5,1)$, $(x_4,y_4)=(6,0)$ を通る4本の3次の区分的補間多項式 $P_i(x) = y_i + a_i (x-x_i) + b_i (x-x_i)^2 + c_i (x-x_i)^3$, $(i=0,1,2,3)$ を求めるプログラムを作成し、$a_i, b_i, c_i$ $(i=0,1,2,3)$ を有効数字10進3桁で4桁目を四捨五入して答えよ。"
      ]
    },
    {
      "cell_type": "markdown",
      "metadata": {
        "id": "6oMty-RaogOy"
      },
      "source": [
        "以下Python3を用いたプログラム例を示す。"
      ]
    },
    {
      "cell_type": "code",
      "metadata": {
        "id": "mMdicca6YOfm",
        "colab": {
          "base_uri": "https://localhost:8080/"
        },
        "outputId": "12a7f249-5bf0-47c7-c286-8941d159f0a1"
      },
      "source": [
        "# Pythonのバージョン確認\n",
        "import sys\n",
        "print(sys.version)"
      ],
      "execution_count": 1,
      "outputs": [
        {
          "output_type": "stream",
          "name": "stdout",
          "text": [
            "3.9.16 (main, Dec  7 2022, 01:11:51) \n",
            "[GCC 9.4.0]\n"
          ]
        }
      ]
    },
    {
      "cell_type": "markdown",
      "metadata": {
        "id": "ktwZETqM-sR_"
      },
      "source": [
        "# レポート解答用冗長コード"
      ]
    },
    {
      "cell_type": "code",
      "metadata": {
        "colab": {
          "base_uri": "https://localhost:8080/"
        },
        "id": "C9Qz-Nodlc5-",
        "outputId": "b7b4b065-7a72-413f-c9dc-9a065ad4f1a5"
      },
      "source": [
        "import numpy as np\n",
        "n = 4\n",
        "x = np.array([0, 1, 4, 5, 6])\n",
        "y = np.array([1, 2, 2, 1, 0])\n",
        "\n",
        "# Preparation\n",
        "\n",
        "h = np.zeros(n)\n",
        "dy = np.zeros(n)\n",
        "\n",
        "for i in range(n):\n",
        "    h[i] = x[i+1] - x[i]\n",
        "    dy[i] = y[i+1] - y[i]\n",
        "\n",
        "# Constraction of tridiagnal matrix\n",
        "\n",
        "d = np.array(np.zeros(n))\n",
        "for i in range(n):\n",
        "    d[i] = 1\n",
        "\n",
        "u = np.array(np.zeros(n)) # u[0] will not be used\n",
        "u[1] = 0\n",
        "for i in range(2, n):\n",
        "    u[i] = (1./2) * h[i-1]/(h[i-1] + h[i-2])\n",
        "\n",
        "l = np.array(np.zeros(n-1))\n",
        "l[0] = 0\n",
        "for i in range(1,n-1):\n",
        "    l[i] = (1./2) * h[i]/(h[i+1] + h[i])\n",
        "\n",
        "g = np.array(np.zeros(n))\n",
        "g[0] = 0\n",
        "for i in range(1, n):\n",
        "    g[i] = (3./2) * (dy[i]/h[i] - dy[i-1]/h[i-1]) / (h[i]+h[i-1])\n",
        "\n",
        "# Solve tridiagonal systems\n",
        "\n",
        "b = np.zeros(n)\n",
        "\n",
        "for i in range(1, n):\n",
        "    d[i] = d[i] - u[i] * l[i-1] / d[i-1]\n",
        "    g[i] = g[i] - g[i-1] * l[i-1] / d[i-1]\n",
        "\n",
        "b[n-1] = g[n-1] / d[n-1]\n",
        "\n",
        "for i in reversed(range(1,n-1)):\n",
        "    b[i] = (g[i] - u[i+1] * b[i+1])/d[i]\n",
        "\n",
        "# Calculate c[i] and a[i] from b[i]\n",
        "a = np.zeros(n)\n",
        "c = np.zeros(n)\n",
        "for i in range(n-1):\n",
        "    a[i] = dy[i]/h[i] - (1./3) * (2*b[i] + b[i+1]) * h[i]\n",
        "    c[i] = (1./3) * (b[i+1]-b[i])/ h[i]\n",
        "a[n-1] = dy[n-1]/h[n-1] - (2./3) * b[n-1] * h[n-1]\n",
        "c[n-1] =  - (1./3) * b[n-1] / h[n-1]\n",
        "\n",
        "print()\n",
        "print(\"a\", a)\n",
        "print(\"b\", b)\n",
        "print(\"c\", c)\n",
        "for i in range(n):\n",
        "    #print(a[i], b[i], c[i])\n",
        "    print(\"p_{5:d} (x) = {1:e} + {2:e} * (x - {0:e})  + {3:e} * (x - {0:e})**2 + {4:e} * (x - {0:e})**3\".format(x[i], y[i], a[i], b[i], c[i], i))"
      ],
      "execution_count": 2,
      "outputs": [
        {
          "output_type": "stream",
          "name": "stdout",
          "text": [
            "\n",
            "a [ 1.08962264  0.82075472 -0.83490566 -1.04716981]\n",
            "b [ 0.         -0.26886792 -0.28301887  0.07075472]\n",
            "c [-0.08962264 -0.00157233  0.11792453 -0.02358491]\n",
            "p_0 (x) = 1.000000e+00 + 1.089623e+00 * (x - 0.000000e+00)  + 0.000000e+00 * (x - 0.000000e+00)**2 + -8.962264e-02 * (x - 0.000000e+00)**3\n",
            "p_1 (x) = 2.000000e+00 + 8.207547e-01 * (x - 1.000000e+00)  + -2.688679e-01 * (x - 1.000000e+00)**2 + -1.572327e-03 * (x - 1.000000e+00)**3\n",
            "p_2 (x) = 2.000000e+00 + -8.349057e-01 * (x - 4.000000e+00)  + -2.830189e-01 * (x - 4.000000e+00)**2 + 1.179245e-01 * (x - 4.000000e+00)**3\n",
            "p_3 (x) = 1.000000e+00 + -1.047170e+00 * (x - 5.000000e+00)  + 7.075472e-02 * (x - 5.000000e+00)**2 + -2.358491e-02 * (x - 5.000000e+00)**3\n"
          ]
        }
      ]
    },
    {
      "cell_type": "markdown",
      "metadata": {
        "id": "NGBPY6E6At_T"
      },
      "source": [
        "# 簡略版"
      ]
    },
    {
      "cell_type": "code",
      "metadata": {
        "colab": {
          "base_uri": "https://localhost:8080/"
        },
        "id": "tGNxKBmBxLwJ",
        "outputId": "a395ae2f-362a-4c55-fa40-b84bd641d863"
      },
      "source": [
        "import numpy as np\n",
        "n = 4\n",
        "#n = 2\n",
        "x = np.array([0, 1, 4, 5, 6])\n",
        "#x = np.array([0, 1, 4])\n",
        "y = np.array([1, 2, 2, 1, 0])\n",
        "#y = np.array([1, 2, 2])\n",
        "\n",
        "h = np.array([x[i+1] - x[i] for i in range(n)])\n",
        "dy = np.array([y[i+1] - y[i] for i in range(n)])\n",
        "\n",
        "\n",
        "d = np.array(np.ones(n))\n",
        "u = np.array([0, 0] + [ h[i-1]/(2*(h[i-1] + h[i-2]) ) for i in range(2, n) ])\n",
        "l = np.array([0] + [ h[i]/(2*(h[i+1] + h[i])) for i in range(1, n-1) ])\n",
        "g = 3./2 * np.array([0] + [ (dy[i]/h[i] - dy[i-1]/h[i-1])/(h[i]+h[i-1]) for i in range(1, n)])\n",
        "\n",
        "for i in range(1, n):\n",
        "    d[i] = d[i] - u[i] * l[i-1] / d[i-1]\n",
        "    g[i] = g[i] - g[i-1] * l[i-1] / d[i-1]\n",
        "\n",
        "b = np.zeros(n)\n",
        "\n",
        "b[n-1] = g[n-1] / d[n-1]\n",
        "\n",
        "for i in reversed(range(1, n-1)):\n",
        "    b[i] = (g[i] - u[i+1] * b[i+1])/d[i]\n",
        "\n",
        "a = np.array([dy[i]/h[i] - 1/3 * (2*b[i] + b[i+1]) * h[i] for i in range(n-1)] + [dy[n-1]/h[n-1] - 2/3 * b[n-1] * h[n-1]])\n",
        "c = np.array( [ (b[i+1] - b[i])/(3 * h[i]) for i in range(n-1)] + [ - b[n-1] / (3 * h[n-1])])\n",
        "\n",
        "print(a)\n",
        "print(b)\n",
        "print(c)\n",
        "\n",
        "for i in range(n):\n",
        "    #print(a[i], b[i], c[i])\n",
        "    print(\"p_{5:d} (x) = {1:e} + {2:e} * (x - {0:e})  + {3:e} * (x - {0:e})**2 + {4:e} * (x - {0:e})**3\".format(x[i], y[i], a[i], b[i], c[i], i))"
      ],
      "execution_count": 3,
      "outputs": [
        {
          "output_type": "stream",
          "name": "stdout",
          "text": [
            "[ 1.08962264  0.82075472 -0.83490566 -1.04716981]\n",
            "[ 0.         -0.26886792 -0.28301887  0.07075472]\n",
            "[-0.08962264 -0.00157233  0.11792453 -0.02358491]\n",
            "p_0 (x) = 1.000000e+00 + 1.089623e+00 * (x - 0.000000e+00)  + 0.000000e+00 * (x - 0.000000e+00)**2 + -8.962264e-02 * (x - 0.000000e+00)**3\n",
            "p_1 (x) = 2.000000e+00 + 8.207547e-01 * (x - 1.000000e+00)  + -2.688679e-01 * (x - 1.000000e+00)**2 + -1.572327e-03 * (x - 1.000000e+00)**3\n",
            "p_2 (x) = 2.000000e+00 + -8.349057e-01 * (x - 4.000000e+00)  + -2.830189e-01 * (x - 4.000000e+00)**2 + 1.179245e-01 * (x - 4.000000e+00)**3\n",
            "p_3 (x) = 1.000000e+00 + -1.047170e+00 * (x - 5.000000e+00)  + 7.075472e-02 * (x - 5.000000e+00)**2 + -2.358491e-02 * (x - 5.000000e+00)**3\n"
          ]
        }
      ]
    },
    {
      "cell_type": "code",
      "metadata": {
        "id": "NQCvJ1oFBkE-"
      },
      "source": [],
      "execution_count": 3,
      "outputs": []
    }
  ]
}