{
  "nbformat": 4,
  "nbformat_minor": 0,
  "metadata": {
    "colab": {
      "provenance": []
    },
    "kernelspec": {
      "name": "python3",
      "display_name": "Python 3"
    }
  },
  "cells": [
    {
      "cell_type": "markdown",
      "metadata": {
        "id": "jaeqy3WhYbK3"
      },
      "source": [
        "# 数値解析2020 レポート\n",
        "\n",
        "**VIII-A.** \n",
        "(1) $m$ 個 $(m>2)$ のデータ点 $(x_i, y_i)$ $(1\\le i\\le m)$ に対し最小2乗法を用いて多項式 $p_1(x)=a_0 + a_1 x$ を当てはめる場合の正規方程式を導出せよ。また求めた正規方程式は\n",
        "\n",
        "\\begin{equation*}\n",
        "    X \\equiv \\begin{bmatrix}\n",
        "    1 & x_1\\\\\n",
        "    1 & x_2\\\\\n",
        "    \\vdots & \\vdots\\\\\n",
        "    1 & x_m\\\\\n",
        "    \\end{bmatrix}, \\mathbf{a}\\equiv \\begin{bmatrix}\n",
        "        a_0\\\\a_1\n",
        "    \\end{bmatrix}, \n",
        "    \\mathbf{y}\\equiv \\begin{bmatrix}\n",
        "        y_0\\\\y_1\\\\ \\vdots \\\\y_m\n",
        "        \\end{bmatrix}\n",
        "\\end{equation*}\n",
        "\n",
        "を用いて $(X^\\mathsf{T}X) \\mathbf{a} = X^\\mathsf{T} \\mathbf{y}$と表せる事を示せ\n",
        "\n",
        "(2) 問1で求めた正規方程式を $\\mathbf{a}$ について解く事で $a_0$ を $s_x^2$, $s_{xy}$ を用いて、$a_1$ を $a_0, \\bar{x},\\bar{y}$ を用いて表せ。\n",
        "ここで $s_x^2$ は $x_i$ の分散、$s_{xy}$ は $x_i$ と $y_i$ の共分散、 $\\bar{x}$ は $x_i$ の平均値、$\\bar{y}$ は $y_i$ の平均値を表す。\n",
        "\n",
        "(3) 問2で求めた式を用いて以下の表にある8つのデータ点 $(0.0, 10.0)$, $(1.0, 21.0)$, $(3.00, 66.0)$, $(4.00, 97.0)$, $(5.00, 118)$ の残差の2乗和を最小化する $p_1(x)$ を求めよ。\n",
        "\n",
        "$\\mathbf{x} = [0, 1, 1, 2, 2, 3, 5, 6]$\n",
        "\n",
        "$\\mathbf{y} = [10, 21, 23, 49, 52, 65,  95, 121]$\n"
      ]
    },
    {
      "cell_type": "markdown",
      "metadata": {
        "id": "6oMty-RaogOy"
      },
      "source": [
        "以下Python3を用いたプログラム例を示す。"
      ]
    },
    {
      "cell_type": "code",
      "metadata": {
        "id": "mMdicca6YOfm",
        "colab": {
          "base_uri": "https://localhost:8080/"
        },
        "outputId": "18507c23-7c8a-451a-d6d2-41b6d916cad7"
      },
      "source": [
        "# Pythonのバージョン確認\n",
        "import sys\n",
        "print(sys.version)"
      ],
      "execution_count": 3,
      "outputs": [
        {
          "output_type": "stream",
          "name": "stdout",
          "text": [
            "3.9.16 (main, Dec  7 2022, 01:11:51) \n",
            "[GCC 9.4.0]\n"
          ]
        }
      ]
    },
    {
      "cell_type": "markdown",
      "metadata": {
        "id": "ktwZETqM-sR_"
      },
      "source": [
        "# レポート解答用冗長コード"
      ]
    },
    {
      "cell_type": "code",
      "metadata": {
        "colab": {
          "base_uri": "https://localhost:8080/"
        },
        "id": "C9Qz-Nodlc5-",
        "outputId": "880ba7d3-cdbb-4392-a8cf-79680f11504e"
      },
      "source": [
        "import numpy as np\n",
        "\n",
        "#x = np.array([0, 1, 2, 3, 4, 5])\n",
        "x = np.array([0, 1, 1, 2, 2, 3, 5, 6])\n",
        "#y = np.array([10, 25, 51, 66, 97, 118])\n",
        "y = np.array([1, 2, 3, 15, 15, 33,  75, 146])\n",
        "\n",
        "m = len(x)\n",
        "print(m)\n",
        "\n",
        "sum_x = sum(x)\n",
        "sum_y = sum(y)\n",
        "cross_term = np.dot(x, y)\n",
        "squared_sum_x = np.dot(x, x)\n",
        "\n",
        "print(sum_x)\n",
        "print(sum_y)\n",
        "print(squared_sum_x)\n",
        "\n",
        "a_1 = (m*cross_term - sum_x * sum_y)/ (m*squared_sum_x - sum_x**2)\n",
        "\n",
        "a_0 = sum_y/m - a_1 * sum_x/m\n",
        "\n",
        "\n",
        "print(\"[a_0] \", a_0)\n",
        "print(\"[a_1] \", a_1)\n",
        "\n",
        "p =  a_0 + a_1 * x\n",
        "#print(p - y)\n",
        "res = sum((p - y)**2)\n",
        "print(\"res\", res)"
      ],
      "execution_count": 4,
      "outputs": [
        {
          "output_type": "stream",
          "name": "stdout",
          "text": [
            "8\n",
            "20\n",
            "290\n",
            "80\n",
            "[a_0]  -21.25\n",
            "[a_1]  23.0\n",
            "res 2111.5\n"
          ]
        }
      ]
    },
    {
      "cell_type": "code",
      "metadata": {
        "id": "5VuUSo1Y5-kd"
      },
      "source": [],
      "execution_count": 4,
      "outputs": []
    }
  ]
}